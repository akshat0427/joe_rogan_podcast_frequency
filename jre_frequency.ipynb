{
 "cells": [
  {
   "cell_type": "code",
   "execution_count": 2,
   "id": "a31ded92-9fbc-418d-acbf-b6ebeb82b3e9",
   "metadata": {},
   "outputs": [],
   "source": [
    "# website to scrape = 'https://jrelibrary.com/'"
   ]
  },
  {
   "cell_type": "code",
   "execution_count": 13,
   "id": "0d7cca6c-1565-40e4-8fbd-7227d91d0830",
   "metadata": {},
   "outputs": [],
   "source": [
    "import requests\n",
    "from bs4 import BeautifulSoup\n",
    "\n",
    "headers = {'User-Agent': 'Mozilla/5.0 (Windows NT 10.0; Win64; x64) AppleWebKit/537.36 (KHTML, like Gecko) Chrome/58.0.3029.110 Safari/537.36',}\n",
    "\n",
    "# o = requests.get('https://www.jrepodcast.com/episodes/',headers=headers).content\n",
    "\n"
   ]
  },
  {
   "cell_type": "code",
   "execution_count": 22,
   "id": "a9d4e374-32b6-4154-b256-40a41980226c",
   "metadata": {},
   "outputs": [],
   "source": [
    "data = []\n",
    "# https://www.jrepodcast.com/episodes/page/2/\n",
    "179\n",
    "# soup = BeautifulSoup(o, 'html5lib')\n",
    "\n",
    "for i in range(1, 180):\n",
    "    \n",
    "    \n",
    "    if i == 1:\n",
    "        data.append(requests.get('https://www.jrepodcast.com/episodes/',headers=headers).text)\n",
    "        \n",
    "        \n",
    "        \n",
    "        print(\"yes\")\n",
    "    else:\n",
    "        \n",
    "        data.append(requests.get(f'https://www.jrepodcast.com/episodes/page/{i}',headers=headers).text)\n",
    "        print(i)\n",
    "        \n",
    "    "
   ]
  },
  {
   "cell_type": "code",
   "execution_count": 27,
   "id": "03afaf90-28a9-4937-9bae-807d43cea44a",
   "metadata": {},
   "outputs": [
    {
     "data": {
      "text/plain": [
       "<p class=\"card__date\"><time class=\"entry-date published\" datetime=\"2016-05-20T01:58:01+00:00\">May 20, 2016</time><span class=\"card__duration\">6 minutes</span></p>"
      ]
     },
     "execution_count": 27,
     "metadata": {},
     "output_type": "execute_result"
    }
   ],
   "source": [
    "soup.find('p',class_=\"card__date\")\n",
    "# len(data)"
   ]
  },
  {
   "cell_type": "code",
   "execution_count": 44,
   "id": "8d0cff9a-dfee-4977-9c08-1a5a867e5e52",
   "metadata": {},
   "outputs": [],
   "source": [
    "dates = []\n",
    "\n",
    "for i in range(0, len(data)):\n",
    "    \n",
    "    soup = BeautifulSoup(data[i], 'html5lib')\n",
    "    for i in soup.find_all('p',class_=\"card__date\"):\n",
    "        dates.append(i.text)\n",
    "        \n",
    "        \n",
    "    \n",
    "    # dates[i+1] = soup.find('p',class_=\"card__date\").text\n",
    "    # dates.append(soup.find('p',class_=\"card__date\").text)\n",
    "    # del soup\n",
    "\n",
    "\n",
    "    \n",
    "\n",
    "\n",
    "    "
   ]
  },
  {
   "cell_type": "code",
   "execution_count": 26,
   "id": "c77503fa-c6e9-4972-8e9d-3608da3acab2",
   "metadata": {},
   "outputs": [],
   "source": [
    "soup = BeautifulSoup(data, 'html5lib')"
   ]
  },
  {
   "cell_type": "code",
   "execution_count": 50,
   "id": "abef610f-3af3-4d62-84b7-325bd607ccd0",
   "metadata": {},
   "outputs": [
    {
     "data": {
      "text/plain": [
       "'3'"
      ]
     },
     "execution_count": 50,
     "metadata": {},
     "output_type": "execute_result"
    }
   ],
   "source": []
  },
  {
   "cell_type": "code",
   "execution_count": 78,
   "id": "4784dd1f-f7a8-4c4a-8b2b-de66072b02af",
   "metadata": {},
   "outputs": [],
   "source": [
    "for i in range(0, len(dates)):\n",
    "    \n",
    "    duration.append((dates[i].split(' ')[2][-1], 'hours', lst_to_str(dates[i].split(' ')[4:6])))\n",
    "\n"
   ]
  },
  {
   "cell_type": "code",
   "execution_count": 76,
   "id": "a94a4c84-0376-4afc-ac50-bf7343ae1717",
   "metadata": {},
   "outputs": [],
   "source": [
    "\n",
    "# duration = []"
   ]
  },
  {
   "cell_type": "code",
   "execution_count": 82,
   "id": "8f0a02c2-5346-45c8-9b8b-d6d5035efe13",
   "metadata": {},
   "outputs": [],
   "source": [
    "# duration == this list contains the duration of the particular episodes \n",
    "\n",
    "\n"
   ]
  },
  {
   "cell_type": "code",
   "execution_count": 83,
   "id": "e03171de-af28-43d8-9974-f8691fdfbce7",
   "metadata": {},
   "outputs": [],
   "source": [
    "dt = []"
   ]
  },
  {
   "cell_type": "code",
   "execution_count": 98,
   "id": "8c97aa08-ba5b-46e8-8c24-bbe07573f4b8",
   "metadata": {},
   "outputs": [],
   "source": [
    "for i in range(0, len(dates)):\n",
    "    \n",
    "    dt.append(lst_to_str(dates[i].split(' ')[0:3]))\n"
   ]
  },
  {
   "cell_type": "code",
   "execution_count": 88,
   "id": "41baf9c8-a40d-4915-815f-44428c5e3fad",
   "metadata": {},
   "outputs": [],
   "source": [
    "import random"
   ]
  },
  {
   "cell_type": "code",
   "execution_count": 106,
   "id": "3a4aa524-8b63-407f-9af9-3307ac8b7138",
   "metadata": {},
   "outputs": [],
   "source": [
    "\n",
    "dt2 = []"
   ]
  },
  {
   "cell_type": "code",
   "execution_count": 107,
   "id": "c77bc9dd-acb8-4fab-8671-e4456f5453f3",
   "metadata": {},
   "outputs": [],
   "source": [
    "for i in dt:\n",
    "    \n",
    "    dt2.append(i[:-1])"
   ]
  },
  {
   "cell_type": "code",
   "execution_count": 110,
   "id": "0e6b3351-a243-406d-9ec4-56e9202da386",
   "metadata": {},
   "outputs": [],
   "source": [
    "\n",
    "# dt2"
   ]
  },
  {
   "cell_type": "code",
   "execution_count": 109,
   "id": "2358752a-af64-43e5-b1bc-23a5ea95d874",
   "metadata": {},
   "outputs": [],
   "source": [
    "months_dict = {\n",
    "    'January': 1,\n",
    "    'February': 2,\n",
    "    'March': 3,\n",
    "    'April': 4,\n",
    "    'May': 5,\n",
    "    'June': 6,\n",
    "    'July': 7,\n",
    "    'August': 8,\n",
    "    'September': 9,\n",
    "    'October': 10,\n",
    "    'November': 11,\n",
    "    'December': 12\n",
    "}\n",
    "\n",
    "# Iterate"
   ]
  },
  {
   "cell_type": "code",
   "execution_count": 171,
   "id": "dc9d4df7-80b1-4c50-bcf9-a4e3c7ee2b2f",
   "metadata": {},
   "outputs": [],
   "source": [
    "dt3 = []\n",
    "for i in range(0, len(dt2)):\n",
    "    dt3.append(dt2[i].replace(dt2[i].split(' ')[0], str(months_dict[dt2[i].split(' ')[0]])))\n",
    "    \n",
    "    # dt3.append(dt2[i].replace(f'{dt2[i].split(' ')[0]}' ,f'{months_dict[dt2[i].split(' ')[0]]'}))\n",
    "    \n",
    "    "
   ]
  },
  {
   "cell_type": "code",
   "execution_count": 115,
   "id": "c6ef9753-ad30-48a6-9b1f-b7e90e47d724",
   "metadata": {},
   "outputs": [],
   "source": [
    "trial_list = ['132']"
   ]
  },
  {
   "cell_type": "code",
   "execution_count": 118,
   "id": "4cb2c8db-5bc5-4bed-832d-86f5e54903f8",
   "metadata": {},
   "outputs": [],
   "source": [
    "trial_list = [trial_list[0].replace('132','123')]"
   ]
  },
  {
   "cell_type": "code",
   "execution_count": 119,
   "id": "eecfd09f-f235-4237-bda0-5efa15d79e48",
   "metadata": {},
   "outputs": [
    {
     "data": {
      "text/plain": [
       "['123']"
      ]
     },
     "execution_count": 119,
     "metadata": {},
     "output_type": "execute_result"
    }
   ],
   "source": [
    "trial_list"
   ]
  },
  {
   "cell_type": "code",
   "execution_count": 178,
   "id": "8b94d92a-aace-4581-b19a-a6fbc44ca408",
   "metadata": {},
   "outputs": [
    {
     "name": "stdout",
     "output_type": "stream",
     "text": [
      "2023 11 7\n"
     ]
    }
   ],
   "source": [
    "\n",
    "# dt3 = rpl(dt3, ',')\n",
    "# s = dt3[0].split(' ')[2]\n",
    "print(dt3[0].split(' ')[2],dt3[0].split(' ')[0:2][0],dt3[0].split(' ')[0:2][1])\n"
   ]
  },
  {
   "cell_type": "code",
   "execution_count": 182,
   "id": "0f381d11-aa7f-4fd6-81e9-4430de62c5cb",
   "metadata": {},
   "outputs": [
    {
     "data": {
      "text/plain": [
       "('2023', '11', '7')"
      ]
     },
     "execution_count": 182,
     "metadata": {},
     "output_type": "execute_result"
    }
   ],
   "source": [
    "\n",
    "# # dt3[0].split(' ')[1].strip()\n",
    "# # dt3[0].replace(',','')\n",
    "\n",
    "# def rpl(x,j):\n",
    "#     l0 = []\n",
    "#     for i in x:\n",
    "        \n",
    "#         l0.append(i.replace(j,''))\n",
    "#     return l0\n",
    "\n",
    "\n",
    "def change_structure(x):\n",
    "    pl = []\n",
    "    for i in range(0, len(x)):\n",
    "        s = x[i].split(' ')[2],x[i].split(' ')[0:2][0],x[i].split(' ')[0:2][1]\n",
    "        pl.append(s)\n",
    "    return pl\n",
    "        \n",
    "\n",
    "    \n",
    "    \n",
    "    \n",
    "# dt3 = rpl(dt3,',')    \n",
    "# dt3 = change_structure(dt3)\n",
    "# print(dt3[0].split(' ')[2],  lst_to_str(dt3[0].split(' ')[0:2]))\n",
    "# dt3[0].split(' ')[0:2] \n",
    "\n",
    "# ns\n",
    "# ''.join(dt3[0])\n",
    "\n",
    "dt3[0]"
   ]
  },
  {
   "cell_type": "code",
   "execution_count": 1,
   "id": "34f9312a-f676-4413-bd4e-10c1e559df68",
   "metadata": {},
   "outputs": [],
   "source": [
    "# frq = []\n",
    "\n",
    "# from datetime import datetime\n",
    "\n",
    "# # Input dates in the format 'YYYY-MM-DD'\n",
    "# for i in range(0, len(dt3)):\n",
    "#     try:\n",
    "        \n",
    "#         start_date_str = dt3[i+1]\n",
    "#         end_date_str = dt3[i]\n",
    "        \n",
    "#         # Convert the date strings to datetime objects\n",
    "#         start_date = datetime.strptime(start_date_str, '%Y %m %d')\n",
    "#         end_date = datetime.strptime(end_date_str, '%Y %m %d')\n",
    "        \n",
    "#         # Calculate the number of days between the two dates\n",
    "#         delta = end_date - start_date\n",
    "        \n",
    "#         # Extract the number of days from the timedelta object\n",
    "#         num_days = delta.days\n",
    "        \n",
    "#         # Print the result\n",
    "#         # print(num_days)\n",
    "#         frq.append(num_days)\n",
    "        \n",
    "#         # print(dt3[i], dt3[i+1])\n",
    "#     except:\n",
    "        # pass\n",
    "#       \n",
    "        \n",
    "    \n",
    "# # start_date_str = '2023 01 15'\n",
    "# # end_date_str = '2023 05 20'\n",
    "\n",
    "# # # Convert the date strings to datetime objects\n",
    "# # start_date = datetime.strptime(start_date_str, '%Y %m %d')\n",
    "# # end_date = datetime.strptime(end_date_str, '%Y %m %d')\n",
    "\n",
    "# # # Calculate the number of days between the two dates\n",
    "# # delta = end_date - start_date\n",
    "\n",
    "# # # Extract the number of days from the timedelta object\n",
    "# # num_days = delta.days\n",
    "\n",
    "# # # Print the result\n",
    "# # print({num_days})\n"
   ]
  },
  {
   "cell_type": "code",
   "execution_count": 8,
   "id": "86a5e00b-45d3-4c07-8cb9-748dce0942c0",
   "metadata": {},
   "outputs": [],
   "source": [
    "# for i in range(0, len(dt3)):\n",
    "#     try:\n",
    "        \n",
    "#         print(dt3[i], dt3[i+1])\n",
    "#     except:\n",
    "#         print(\"ho gaya task\")\n",
    "        \n",
    "frq = frq[0:2058]"
   ]
  },
  {
   "cell_type": "code",
   "execution_count": 3,
   "id": "9d10c313-c694-40fb-a3b2-bc1300af1d10",
   "metadata": {},
   "outputs": [],
   "source": [
    "# print(len(dt3))\n",
    "\n",
    "def av(x):\n",
    "    print(sum(x)/len(x))"
   ]
  },
  {
   "cell_type": "code",
   "execution_count": 211,
   "id": "6fdc16fb-3401-4222-b27b-d6e896858e09",
   "metadata": {},
   "outputs": [],
   "source": [
    "# def correct_format(x):\n",
    "#     pl = []\n",
    "#     for i in x:\n",
    "#         pl.append(convertTuple(i))\n",
    "#     return pl\n",
    "\n",
    "        "
   ]
  },
  {
   "cell_type": "code",
   "execution_count": 209,
   "id": "28f70047-d2be-4fb2-8356-67248661e092",
   "metadata": {},
   "outputs": [],
   "source": [
    "dt3 = correct_format(dt3)"
   ]
  },
  {
   "cell_type": "code",
   "execution_count": 210,
   "id": "dd698571-836a-4040-87bf-8ea588445737",
   "metadata": {},
   "outputs": [
    {
     "data": {
      "text/plain": [
       "'2023 11 7'"
      ]
     },
     "execution_count": 210,
     "metadata": {},
     "output_type": "execute_result"
    }
   ],
   "source": [
    "\n",
    "dt3[0]"
   ]
  },
  {
   "cell_type": "code",
   "execution_count": 7,
   "id": "ea7493bf-5b39-4f2e-8f2d-48bdb2dbb504",
   "metadata": {},
   "outputs": [
    {
     "name": "stdout",
     "output_type": "stream",
     "text": [
      "1.469387755102041\n"
     ]
    }
   ],
   "source": [
    "# the frequency\n",
    "\n",
    "av(frq)\n"
   ]
  },
  {
   "cell_type": "code",
   "execution_count": null,
   "id": "9cce9014-c83f-4977-ab2c-96d25743bc32",
   "metadata": {},
   "outputs": [],
   "source": []
  }
 ],
 "metadata": {
  "kernelspec": {
   "display_name": "Python 3 (ipykernel)",
   "language": "python",
   "name": "python3"
  },
  "language_info": {
   "codemirror_mode": {
    "name": "ipython",
    "version": 3
   },
   "file_extension": ".py",
   "mimetype": "text/x-python",
   "name": "python",
   "nbconvert_exporter": "python",
   "pygments_lexer": "ipython3",
   "version": "3.12.3"
  }
 },
 "nbformat": 4,
 "nbformat_minor": 5
}
